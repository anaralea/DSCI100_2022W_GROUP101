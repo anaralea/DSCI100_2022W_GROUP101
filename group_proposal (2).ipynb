{
 "cells": [
  {
   "cell_type": "markdown",
   "id": "f8f2a5fc-1d53-4974-aba1-46f568c0f9c2",
   "metadata": {
    "tags": []
   },
   "source": [
    "GROUP 101 PROPOSAL\n",
    "\n",
    "A pulsar is a neutron star that rotates rapidly and emits radio-waves that are detectable by sensitive radio telescopes on earth in a periodic manner of surges, based on its rotation which affects the magnetic axis - like the pulse of the heart organ. Each pulse has a different fold shape (and varies very slightly with each rotation), and different emission patterns. Based on the radio-wave emission, we predict whether the star is pulsar or not by seeing if there is an undisturbed pattern of periodic waves, as random noises can also be a distraction in detecting radio-wave emission. Noises can come from many sources, and many RFI (radio frequency interference) prevents accurate detection of pulsar radio-emissions. An integrated pulse profile can detect and analyze the whole, instead of a single pulse, which can be misleading. SNR is signal (of pulsar) to noise ratio. The proportion of the desired signal to the background noise. In the HTRU 2 data set, there are 16259 negative observations, and 1639 are real pulsars, for a total of 17898 observations. There are two main continuous variables that are included.\n",
    "\n",
    "The two main continuous variables that we are basing our classification and classifier algorithm on (to predict whether or not the observations are pulsars):\n",
    "Integrated pulse profile (folded profile). This is an array of continuous variables that describe a longitude-resolved version (based on longitude-axis waves) of the signal that has been averaged in both time and frequency, where the pulses are radio-wave emissions with respect to time:\n",
    "The mean of the integrated pulse profile measures the frequency of complete rotations of the pulsar in a second. Most pulsars are millisecond pulsars, with a little more than a hundred rotations a second. \n",
    "Signal to noise ratio:\n",
    "This measures the strength of the signal. To see if the signal is from the pulsar, if the SNR is high. \n",
    "DM-SNR is the dispersion measure signal to noise ratio. \n",
    "It measures the number of free electrons between the telescope and the pulsar, that is averaged (integrated). The DM is the integrated column density of free electrons between an observer and a pulsar. It is a DM correction, to turn the dispersed into de-dispersed to better measure the strength of the signal?\n",
    "\n",
    "![caption for image](Group Project/pulsar.png)\n",
    "\n",
    "\n",
    "1. Mean of the integrated profile (mean of frequency of detected rotations)\n",
    "2. Standard deviation of the integrated profile. (spread)\n",
    "3. Excess kurtosis of the integrated profile. (outliers)\n",
    "4. Skewness of the integrated profile. (distribution of the frequency’s lack of symmetry)\n",
    "5. Mean of the DM-SNR curve. (mean of dispersion measure of strength of signal)\n",
    "6. Standard deviation of the DM-SNR curve. (spread)\n",
    "7. Excess kurtosis of the DM-SNR curve. (outliers)\n",
    "8. Skewness of the DM-SNR curve. (distribution of the strength of signal’s lack of symmetry)\n",
    "9. Class (whether it is a pulsar or not)\n"
   ]
  },
  {
   "cell_type": "code",
   "execution_count": null,
   "id": "812c88ec-8552-4c70-b6fb-196ee909758b",
   "metadata": {},
   "outputs": [],
   "source": [
    "read_csv"
   ]
  }
 ],
 "metadata": {
  "kernelspec": {
   "display_name": "R",
   "language": "R",
   "name": "ir"
  },
  "language_info": {
   "codemirror_mode": "r",
   "file_extension": ".r",
   "mimetype": "text/x-r-source",
   "name": "R",
   "pygments_lexer": "r",
   "version": "4.1.3"
  }
 },
 "nbformat": 4,
 "nbformat_minor": 5
}
